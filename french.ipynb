{
 "cells": [
  {
   "cell_type": "code",
   "execution_count": 2,
   "metadata": {},
   "outputs": [
    {
     "data": {
      "text/plain": [
       "' asdf'"
      ]
     },
     "execution_count": 2,
     "metadata": {},
     "output_type": "execute_result"
    }
   ],
   "source": [
    "'\" asdf'.strip('\"')"
   ]
  },
  {
   "cell_type": "code",
   "execution_count": 1,
   "metadata": {},
   "outputs": [
    {
     "name": "stdout",
     "output_type": "stream",
     "text": [
      "# Compiled source #\r\n",
      "###################\r\n",
      "*.com\r\n",
      "*.class\r\n",
      "*.dll\r\n",
      "*.exe\r\n",
      "*.o\r\n",
      "*.so\r\n",
      "\r\n",
      "# Packages #\r\n",
      "############\r\n",
      "# it's better to unpack these files and commit the raw source\r\n",
      "# git has its own built in compression methods\r\n",
      "*.7z\r\n",
      "*.dmg\r\n",
      "*.gz\r\n",
      "*.iso\r\n",
      "*.jar\r\n",
      "*.rar\r\n",
      "*.tar\r\n",
      "*.zip\r\n",
      "\r\n",
      "# Logs and databases #\r\n",
      "######################\r\n",
      "*.log\r\n",
      "*.sql\r\n",
      "*.sqlite\r\n",
      "\r\n",
      "# OS generated files #\r\n",
      "######################\r\n",
      ".DS_Store\r\n",
      ".DS_Store?\r\n",
      "._*\r\n",
      ".Spotlight-V100\r\n",
      ".Trashes\r\n",
      "ehthumbs.db\r\n",
      "Thumbs.db\r\n",
      "telegram_api.key\r\n",
      "translation_api.key"
     ]
    }
   ],
   "source": [
    "cat .gitignore"
   ]
  },
  {
   "cell_type": "code",
   "execution_count": 7,
   "metadata": {},
   "outputs": [],
   "source": [
    "!echo trnsl.1.1.20161213T195505Z.da017ed804634d3b.ace1de9774f00a39a770fb3fe585d457ab9dfde > translation_api.key"
   ]
  },
  {
   "cell_type": "code",
   "execution_count": 9,
   "metadata": {},
   "outputs": [
    {
     "name": "stdout",
     "output_type": "stream",
     "text": [
      "392437358:AAETwo_1h2yDxjtWczY59svY7YylYcZKZak\r\n"
     ]
    }
   ],
   "source": [
    "cat telegram_api.key"
   ]
  },
  {
   "cell_type": "code",
   "execution_count": 18,
   "metadata": {},
   "outputs": [
    {
     "data": {
      "text/plain": [
       "'weee weee'"
      ]
     },
     "execution_count": 18,
     "metadata": {},
     "output_type": "execute_result"
    }
   ],
   "source": [
    "'{0} {0}'.format('weee')"
   ]
  },
  {
   "cell_type": "code",
   "execution_count": 33,
   "metadata": {},
   "outputs": [],
   "source": [
    "TELEGRAM_KEY_FILE = 'telegram_api.key'\n",
    "TRANSLATION_KEY_FILE = 'translation_api.key'\n",
    "\n",
    "\n",
    "def read_key_file(service):\n",
    "    if service == 'Telegram':\n",
    "        key_file = TELEGRAM_KEY_FILE\n",
    "    elif service == 'Translation':\n",
    "        key_file = TRANSLATION_KEY_FILE\n",
    "    else:\n",
    "        raise Exception('Service name is not correct, cannot read keys')\n",
    "        \n",
    "    try:\n",
    "        with open(key_file) as f:\n",
    "            read_token = f.readline().strip()\n",
    "    except FileNotFoundError:\n",
    "        raise Exception('{0} key file not found, please place your {0} API token to {1} file'.format(service, key_file))\n",
    "    \n",
    "    return read_token\n",
    "    \n",
    "TELEGRAM_TOKEN = read_key_file('Telegram')\n",
    "TRANSLATION_TOKEN = read_key_file('Translation')"
   ]
  },
  {
   "cell_type": "code",
   "execution_count": 34,
   "metadata": {},
   "outputs": [
    {
     "data": {
      "text/plain": [
       "'trnsl.1.1.20161213T195505Z.da017ed804634d3b.ace1de9774f00a39a770fb3fe585d457ab9dfde'"
      ]
     },
     "execution_count": 34,
     "metadata": {},
     "output_type": "execute_result"
    }
   ],
   "source": [
    "TRANSLATION_TOKEN"
   ]
  },
  {
   "cell_type": "code",
   "execution_count": null,
   "metadata": {},
   "outputs": [],
   "source": [
    "open('translation_api.key')"
   ]
  },
  {
   "cell_type": "code",
   "execution_count": 1,
   "metadata": {},
   "outputs": [],
   "source": [
    "from requests import get, post\n",
    "#requests - даёт пользоваться http Без особых знаний\n",
    "import urllib\n",
    "import urllib.parse\n",
    "from bs4 import BeautifulSoup\n",
    "from IPython.core.display import display, HTML"
   ]
  },
  {
   "cell_type": "markdown",
   "metadata": {},
   "source": [
    "TODO: \n",
    "* выводить табличкой\n",
    "* добавить ссылку на сайт"
   ]
  },
  {
   "cell_type": "code",
   "execution_count": 2,
   "metadata": {
    "collapsed": true
   },
   "outputs": [],
   "source": [
    "def translate(city_name, final_lang=\"ru\"):\n",
    "    api_key = 'trnsl.1.1.20161213T195505Z.da017ed804634d3b.ace1de9774f00a39a770fb3fe585d457ab9dfde'\n",
    "    template = 'https://translate.yandex.net/api/v1.5/tr.json/translate?&key={}c&text={}&lang={}'\n",
    "    url = template.format(api_key,city_name, final_lang)\n",
    "    json_request = get(url).json()\n",
    "    return json_request['text'][0]"
   ]
  },
  {
   "cell_type": "code",
   "execution_count": 3,
   "metadata": {},
   "outputs": [],
   "source": [
    "def get_genre(nouns):\n",
    "    for noun in nouns:\n",
    "        print()\n",
    "        print('Translation: {}'.format(translate(noun,final_lang='fr-ru')))\n",
    "        template = 'http://www.linternaute.com/dictionnaire/fr/definition/{}/'\n",
    "        try:\n",
    "            url = template.format(noun)\n",
    "            req = get(url)\n",
    "\n",
    "            soup = BeautifulSoup(req.text, \"lxml\")\n",
    "            print (soup.select('.dico_title_1')[0].text_content())\n",
    "            display(HTML(str(soup.select('.dico_title_1')[0])))\n",
    "            display(HTML(str(soup.select('.dico_title_definition')[0])))\n",
    "        except:\n",
    "            print('Failed')"
   ]
  },
  {
   "cell_type": "code",
   "execution_count": 67,
   "metadata": {},
   "outputs": [],
   "source": [
    "def get_genre(nouns):\n",
    "    for noun in nouns:\n",
    "        print('{} means {}'.format(noun, translate(noun,final_lang='fr-ru')))\n",
    "        template = 'http://www.linternaute.com/dictionnaire/fr/definition/{}/'\n",
    "        try:\n",
    "            url = template.format(noun)\n",
    "            req = get(url)\n",
    "\n",
    "            soup = BeautifulSoup(req.text, \"lxml\")\n",
    "            word = soup.select('.dico_title_1')[0]\n",
    "            word_str = word.get_text()\n",
    "            genre = soup.select('.dico_title_definition')[0]\n",
    "            genre_str = genre.get_text().replace('\\n', '').replace('\\t', '').strip()\n",
    "            print('{} is {}'.format(word_str, genre_str))\n",
    "        except:\n",
    "            print('Failed')\n",
    "    return genre"
   ]
  },
  {
   "cell_type": "code",
   "execution_count": 68,
   "metadata": {},
   "outputs": [
    {
     "name": "stdout",
     "output_type": "stream",
     "text": [
      "chat means кошка\n",
      "chat is nom, nom masculin\n"
     ]
    }
   ],
   "source": [
    "genre = get_genre(['chat'])"
   ]
  },
  {
   "cell_type": "code",
   "execution_count": 56,
   "metadata": {},
   "outputs": [
    {
     "data": {
      "text/plain": [
       "'nom, nom masculin'"
      ]
     },
     "execution_count": 56,
     "metadata": {},
     "output_type": "execute_result"
    }
   ],
   "source": [
    "genre.get_text().replace('\\n', '').replace('\\t', '').strip()"
   ]
  },
  {
   "cell_type": "code",
   "execution_count": 4,
   "metadata": {},
   "outputs": [],
   "source": [
    "def get_conjugation(verbs, time):\n",
    "    print('{} forms for:'.format(time))\n",
    "    for verb in verbs:\n",
    "        print()\n",
    "        print(verb)\n",
    "        print(translate(verb,final_lang='fr-en'))\n",
    "        if (verb.count(' ') > 0):\n",
    "            verb = verb.replace(' ', '_')\n",
    "        template = 'http://la-conjugaison.nouvelobs.com/du/verbe/{}.php'\n",
    "        url = template.format(verb)\n",
    "        req = get(url)\n",
    "\n",
    "        assert req.status_code == 200, 'request failed'\n",
    "        soup = BeautifulSoup(req.text, \"lxml\")\n",
    "        display(HTML(str(soup.select('.bloc b')[0])))\n",
    "        tempstab = soup.findAll('div', attrs={'class' : 'tempstab'})\n",
    "        hey = []\n",
    "        for temp in tempstab:\n",
    "            if (temp.findAll('img', attrs={'alt': time}) != []):\n",
    "                hey.append(temp)\n",
    "        \n",
    "        if (len(hey) == 0):\n",
    "            print('Conjugation not found for verb {}, try:'.format(verb))\n",
    "            print(url)\n",
    "        else:\n",
    "            hey = hey[0].find('div', attrs={'class': 'tempscorps'})\n",
    "            display(HTML(str(hey)))"
   ]
  },
  {
   "cell_type": "code",
   "execution_count": 29,
   "metadata": {
    "collapsed": true
   },
   "outputs": [],
   "source": [
    "sss = 'partir is verbe'"
   ]
  },
  {
   "cell_type": "code",
   "execution_count": 31,
   "metadata": {},
   "outputs": [
    {
     "data": {
      "text/plain": [
       "False"
      ]
     },
     "execution_count": 31,
     "metadata": {},
     "output_type": "execute_result"
    }
   ],
   "source": [
    "'versb' in sss "
   ]
  },
  {
   "cell_type": "code",
   "execution_count": 5,
   "metadata": {
    "collapsed": true
   },
   "outputs": [],
   "source": [
    "def get_conjugation(verb):\n",
    "#     print('{} forms for:'.format(time))\n",
    "    times = ['Présent', 'Passé composé', 'Imparfait', 'Futur simple']\n",
    "    \n",
    "    if (verb.count(' ') > 0):\n",
    "        verb = verb.replace(' ', '_')\n",
    "    template = 'http://la-conjugaison.nouvelobs.com/du/verbe/{}.php'\n",
    "    url = template.format(verb)\n",
    "    req = get(url)\n",
    "\n",
    "    assert req.status_code == 200, 'request failed'\n",
    "    soup = BeautifulSoup(req.text, \"lxml\")\n",
    "    tempstab = soup.findAll('div', attrs={'class' : 'tempstab'})\n",
    "    result = ''\n",
    "    for time in times:\n",
    "        hey = []\n",
    "        for temp in tempstab:\n",
    "            if (temp.findAll('img', attrs={'alt': time}) != []):\n",
    "                hey.append(temp)\n",
    "\n",
    "        if (len(hey) == 0):\n",
    "            print('Conjugation not found for verb {}, try:'.format(verb))\n",
    "            print(url)\n",
    "        else:\n",
    "            hey = hey[0].find('div', attrs={'class': 'tempscorps'})\n",
    "#             display(HTML(str(hey)))\n",
    "            result += '{} : {}\\n'.format(time, hey.get_text())\n",
    "    return result"
   ]
  },
  {
   "cell_type": "code",
   "execution_count": 48,
   "metadata": {},
   "outputs": [],
   "source": [
    "sup = get_conjugation('sortir')"
   ]
  },
  {
   "cell_type": "code",
   "execution_count": 45,
   "metadata": {},
   "outputs": [],
   "source": [
    "pronouns = ['tu ', 'il ', 'elle ', 'nous ', 'vous ', 'ils ']\n",
    "test = 'tu '\n",
    "new_sup = sup"
   ]
  },
  {
   "cell_type": "code",
   "execution_count": 46,
   "metadata": {},
   "outputs": [],
   "source": [
    "for test in pronouns:\n",
    "    index = 0\n",
    "    counter = 0\n",
    "    while index != -1:\n",
    "        counter += 1\n",
    "        if counter > 20:\n",
    "            print('wrong')\n",
    "            break\n",
    "        index = new_sup.find(test)\n",
    "        if index != -1:\n",
    "            new_sup = new_sup[:index] + ' ' + test[0].upper() + new_sup[index+1:]"
   ]
  },
  {
   "cell_type": "code",
   "execution_count": 47,
   "metadata": {},
   "outputs": [
    {
     "data": {
      "text/plain": [
       "'Présent : je pars Tu pars Il part Nous partons Vous partez Ils partent\\nPassé composé : je suis parti Tu es parti Il est parti Nous sommes partis Vous êtes partis Ils sont partis\\nImparfait : je partais Tu partais Il partait Nous partions Vous partiez Ils partaient\\nFutur simple : je partirai Tu partiras Il partira Nous partirons Vous partirez Ils partiront\\n'"
      ]
     },
     "execution_count": 47,
     "metadata": {},
     "output_type": "execute_result"
    }
   ],
   "source": [
    "new_sup"
   ]
  },
  {
   "cell_type": "code",
   "execution_count": null,
   "metadata": {
    "collapsed": true
   },
   "outputs": [],
   "source": [
    "\n",
    "line[:index] + 'Fu ' + line[index:]"
   ]
  },
  {
   "cell_type": "code",
   "execution_count": 46,
   "metadata": {
    "collapsed": true
   },
   "outputs": [],
   "source": [
    "import re"
   ]
  },
  {
   "cell_type": "code",
   "execution_count": 50,
   "metadata": {},
   "outputs": [
    {
     "name": "stderr",
     "output_type": "stream",
     "text": [
      "C:\\Anaconda3\\lib\\re.py:203: FutureWarning: split() requires a non-empty pattern match.\n",
      "  return _compile(pattern, flags).split(string, maxsplit)\n"
     ]
    },
    {
     "data": {
      "text/plain": [
       "['a', 'bc']"
      ]
     },
     "execution_count": 50,
     "metadata": {},
     "output_type": "execute_result"
    }
   ],
   "source": [
    "re.split('x*', 'axbc')"
   ]
  },
  {
   "cell_type": "code",
   "execution_count": 18,
   "metadata": {},
   "outputs": [
    {
     "name": "stdout",
     "output_type": "stream",
     "text": [
      "Imparfait forms for:\n",
      "\n",
      "partir\n",
      "from\n"
     ]
    },
    {
     "data": {
      "text/html": [
       "<b>3ème</b> group"
      ],
      "text/plain": [
       "<IPython.core.display.HTML object>"
      ]
     },
     "metadata": {},
     "output_type": "display_data"
    },
    {
     "data": {
      "text/html": [
       "<div class=\"tempscorps\">je par<b>tais</b><br/>tu par<b>tais</b><br/>il par<b>tait</b><br/>nous par<b>tions</b><br/>vous par<b>tiez</b><br/>ils par<b>taient</b><br/></div>"
      ],
      "text/plain": [
       "<IPython.core.display.HTML object>"
      ]
     },
     "metadata": {},
     "output_type": "display_data"
    },
    {
     "name": "stdout",
     "output_type": "stream",
     "text": [
      "\n",
      "etre\n",
      "be\n"
     ]
    },
    {
     "data": {
      "text/html": [
       "<b>Auxiliaire</b> group"
      ],
      "text/plain": [
       "<IPython.core.display.HTML object>"
      ]
     },
     "metadata": {},
     "output_type": "display_data"
    },
    {
     "data": {
      "text/html": [
       "<div class=\"tempscorps\">j'<b>étais</b><br/>tu <b>étais</b><br/>il <b>était</b><br/>nous <b>étions</b><br/>vous <b>étiez</b><br/>ils <b>étaient</b><br/></div>"
      ],
      "text/plain": [
       "<IPython.core.display.HTML object>"
      ]
     },
     "metadata": {},
     "output_type": "display_data"
    },
    {
     "name": "stdout",
     "output_type": "stream",
     "text": [
      "\n",
      "lire\n",
      "read\n"
     ]
    },
    {
     "data": {
      "text/html": [
       "<b>3ème</b> group"
      ],
      "text/plain": [
       "<IPython.core.display.HTML object>"
      ]
     },
     "metadata": {},
     "output_type": "display_data"
    },
    {
     "data": {
      "text/html": [
       "<div class=\"tempscorps\">je l<b>isais</b><br/>tu l<b>isais</b><br/>il l<b>isait</b><br/>nous l<b>isions</b><br/>vous l<b>isiez</b><br/>ils l<b>isaient</b><br/></div>"
      ],
      "text/plain": [
       "<IPython.core.display.HTML object>"
      ]
     },
     "metadata": {},
     "output_type": "display_data"
    },
    {
     "name": "stdout",
     "output_type": "stream",
     "text": [
      "\n",
      "ecouter\n",
      "listen\n"
     ]
    },
    {
     "data": {
      "text/html": [
       "<b>1er</b> group"
      ],
      "text/plain": [
       "<IPython.core.display.HTML object>"
      ]
     },
     "metadata": {},
     "output_type": "display_data"
    },
    {
     "data": {
      "text/html": [
       "<div class=\"tempscorps\">j'écout<b>ais</b><br/>tu écout<b>ais</b><br/>il écout<b>ait</b><br/>nous écout<b>ions</b><br/>vous écout<b>iez</b><br/>ils écout<b>aient</b><br/></div>"
      ],
      "text/plain": [
       "<IPython.core.display.HTML object>"
      ]
     },
     "metadata": {},
     "output_type": "display_data"
    },
    {
     "name": "stdout",
     "output_type": "stream",
     "text": [
      "\n",
      "attendre\n",
      "wait\n"
     ]
    },
    {
     "data": {
      "text/html": [
       "<b>3ème</b> group"
      ],
      "text/plain": [
       "<IPython.core.display.HTML object>"
      ]
     },
     "metadata": {},
     "output_type": "display_data"
    },
    {
     "data": {
      "text/html": [
       "<div class=\"tempscorps\">j'attend<b>ais</b><br/>tu attend<b>ais</b><br/>il attend<b>ait</b><br/>nous attend<b>ions</b><br/>vous attend<b>iez</b><br/>ils attend<b>aient</b><br/></div>"
      ],
      "text/plain": [
       "<IPython.core.display.HTML object>"
      ]
     },
     "metadata": {},
     "output_type": "display_data"
    },
    {
     "name": "stdout",
     "output_type": "stream",
     "text": [
      "\n",
      "etre\n",
      "be\n"
     ]
    },
    {
     "data": {
      "text/html": [
       "<b>Auxiliaire</b> group"
      ],
      "text/plain": [
       "<IPython.core.display.HTML object>"
      ]
     },
     "metadata": {},
     "output_type": "display_data"
    },
    {
     "data": {
      "text/html": [
       "<div class=\"tempscorps\">j'<b>étais</b><br/>tu <b>étais</b><br/>il <b>était</b><br/>nous <b>étions</b><br/>vous <b>étiez</b><br/>ils <b>étaient</b><br/></div>"
      ],
      "text/plain": [
       "<IPython.core.display.HTML object>"
      ]
     },
     "metadata": {},
     "output_type": "display_data"
    },
    {
     "name": "stdout",
     "output_type": "stream",
     "text": [
      "\n",
      "rever\n",
      "rever\n"
     ]
    },
    {
     "data": {
      "text/html": [
       "<b>1er</b> group"
      ],
      "text/plain": [
       "<IPython.core.display.HTML object>"
      ]
     },
     "metadata": {},
     "output_type": "display_data"
    },
    {
     "data": {
      "text/html": [
       "<div class=\"tempscorps\">je rêv<b>ais</b><br/>tu rêv<b>ais</b><br/>il rêv<b>ait</b><br/>nous rêv<b>ions</b><br/>vous rêv<b>iez</b><br/>ils rêv<b>aient</b><br/></div>"
      ],
      "text/plain": [
       "<IPython.core.display.HTML object>"
      ]
     },
     "metadata": {},
     "output_type": "display_data"
    },
    {
     "name": "stdout",
     "output_type": "stream",
     "text": [
      "\n",
      "se reunir\n",
      "meet\n"
     ]
    },
    {
     "data": {
      "text/html": [
       "<b>2ème</b> group"
      ],
      "text/plain": [
       "<IPython.core.display.HTML object>"
      ]
     },
     "metadata": {},
     "output_type": "display_data"
    },
    {
     "data": {
      "text/html": [
       "<div class=\"tempscorps\">je me réun<b>issais</b><br/>tu te réun<b>issais</b><br/>il se réun<b>issait</b><br/>nous nous réun<b>issions</b><br/>vous vous réun<b>issiez</b><br/>ils se réun<b>issaient</b><br/></div>"
      ],
      "text/plain": [
       "<IPython.core.display.HTML object>"
      ]
     },
     "metadata": {},
     "output_type": "display_data"
    },
    {
     "name": "stdout",
     "output_type": "stream",
     "text": [
      "\n",
      "discuter\n",
      "discuss\n"
     ]
    },
    {
     "data": {
      "text/html": [
       "<b>1er</b> group"
      ],
      "text/plain": [
       "<IPython.core.display.HTML object>"
      ]
     },
     "metadata": {},
     "output_type": "display_data"
    },
    {
     "data": {
      "text/html": [
       "<div class=\"tempscorps\">je discut<b>ais</b><br/>tu discut<b>ais</b><br/>il discut<b>ait</b><br/>nous discut<b>ions</b><br/>vous discut<b>iez</b><br/>ils discut<b>aient</b><br/></div>"
      ],
      "text/plain": [
       "<IPython.core.display.HTML object>"
      ]
     },
     "metadata": {},
     "output_type": "display_data"
    },
    {
     "name": "stdout",
     "output_type": "stream",
     "text": [
      "\n",
      "manger\n",
      "eat\n"
     ]
    },
    {
     "data": {
      "text/html": [
       "<b>1er</b> group"
      ],
      "text/plain": [
       "<IPython.core.display.HTML object>"
      ]
     },
     "metadata": {},
     "output_type": "display_data"
    },
    {
     "data": {
      "text/html": [
       "<div class=\"tempscorps\">je mang<b>eais</b><br/>tu mang<b>eais</b><br/>il mang<b>eait</b><br/>nous mang<b>ions</b><br/>vous mang<b>iez</b><br/>ils mang<b>eaient</b><br/></div>"
      ],
      "text/plain": [
       "<IPython.core.display.HTML object>"
      ]
     },
     "metadata": {},
     "output_type": "display_data"
    },
    {
     "name": "stdout",
     "output_type": "stream",
     "text": [
      "\n",
      "lancer\n",
      "launch\n"
     ]
    },
    {
     "data": {
      "text/html": [
       "<b>1er</b> group"
      ],
      "text/plain": [
       "<IPython.core.display.HTML object>"
      ]
     },
     "metadata": {},
     "output_type": "display_data"
    },
    {
     "data": {
      "text/html": [
       "<div class=\"tempscorps\">je lan<b>çais</b><br/>tu lan<b>çais</b><br/>il lan<b>çait</b><br/>nous lan<b>cions</b><br/>vous lan<b>ciez</b><br/>ils lan<b>çaient</b><br/></div>"
      ],
      "text/plain": [
       "<IPython.core.display.HTML object>"
      ]
     },
     "metadata": {},
     "output_type": "display_data"
    },
    {
     "name": "stdout",
     "output_type": "stream",
     "text": [
      "\n",
      "etre\n",
      "be\n"
     ]
    },
    {
     "data": {
      "text/html": [
       "<b>Auxiliaire</b> group"
      ],
      "text/plain": [
       "<IPython.core.display.HTML object>"
      ]
     },
     "metadata": {},
     "output_type": "display_data"
    },
    {
     "data": {
      "text/html": [
       "<div class=\"tempscorps\">j'<b>étais</b><br/>tu <b>étais</b><br/>il <b>était</b><br/>nous <b>étions</b><br/>vous <b>étiez</b><br/>ils <b>étaient</b><br/></div>"
      ],
      "text/plain": [
       "<IPython.core.display.HTML object>"
      ]
     },
     "metadata": {},
     "output_type": "display_data"
    },
    {
     "name": "stdout",
     "output_type": "stream",
     "text": [
      "\n",
      "croire\n",
      "believe\n"
     ]
    },
    {
     "data": {
      "text/html": [
       "<b>3ème</b> group"
      ],
      "text/plain": [
       "<IPython.core.display.HTML object>"
      ]
     },
     "metadata": {},
     "output_type": "display_data"
    },
    {
     "data": {
      "text/html": [
       "<div class=\"tempscorps\">je cr<b>oyais</b><br/>tu cr<b>oyais</b><br/>il cr<b>oyait</b><br/>nous cr<b>oyions</b><br/>vous cr<b>oyiez</b><br/>ils cr<b>oyaient</b><br/></div>"
      ],
      "text/plain": [
       "<IPython.core.display.HTML object>"
      ]
     },
     "metadata": {},
     "output_type": "display_data"
    },
    {
     "name": "stdout",
     "output_type": "stream",
     "text": [
      "\n",
      "marcher\n",
      "walk\n"
     ]
    },
    {
     "data": {
      "text/html": [
       "<b>1er</b> group"
      ],
      "text/plain": [
       "<IPython.core.display.HTML object>"
      ]
     },
     "metadata": {},
     "output_type": "display_data"
    },
    {
     "data": {
      "text/html": [
       "<div class=\"tempscorps\">je march<b>ais</b><br/>tu march<b>ais</b><br/>il march<b>ait</b><br/>nous march<b>ions</b><br/>vous march<b>iez</b><br/>ils march<b>aient</b><br/></div>"
      ],
      "text/plain": [
       "<IPython.core.display.HTML object>"
      ]
     },
     "metadata": {},
     "output_type": "display_data"
    },
    {
     "name": "stdout",
     "output_type": "stream",
     "text": [
      "\n",
      "reflechir\n",
      "think\n"
     ]
    },
    {
     "data": {
      "text/html": [
       "<b>2ème</b> group"
      ],
      "text/plain": [
       "<IPython.core.display.HTML object>"
      ]
     },
     "metadata": {},
     "output_type": "display_data"
    },
    {
     "data": {
      "text/html": [
       "<div class=\"tempscorps\">je réfléch<b>issais</b><br/>tu réfléch<b>issais</b><br/>il réfléch<b>issait</b><br/>nous réfléch<b>issions</b><br/>vous réfléch<b>issiez</b><br/>ils réfléch<b>issaient</b><br/></div>"
      ],
      "text/plain": [
       "<IPython.core.display.HTML object>"
      ]
     },
     "metadata": {},
     "output_type": "display_data"
    },
    {
     "name": "stdout",
     "output_type": "stream",
     "text": [
      "\n",
      "etre\n",
      "be\n"
     ]
    },
    {
     "data": {
      "text/html": [
       "<b>Auxiliaire</b> group"
      ],
      "text/plain": [
       "<IPython.core.display.HTML object>"
      ]
     },
     "metadata": {},
     "output_type": "display_data"
    },
    {
     "data": {
      "text/html": [
       "<div class=\"tempscorps\">j'<b>étais</b><br/>tu <b>étais</b><br/>il <b>était</b><br/>nous <b>étions</b><br/>vous <b>étiez</b><br/>ils <b>étaient</b><br/></div>"
      ],
      "text/plain": [
       "<IPython.core.display.HTML object>"
      ]
     },
     "metadata": {},
     "output_type": "display_data"
    },
    {
     "name": "stdout",
     "output_type": "stream",
     "text": [
      "\n",
      "commencer\n",
      "start\n"
     ]
    },
    {
     "data": {
      "text/html": [
       "<b>1er</b> group"
      ],
      "text/plain": [
       "<IPython.core.display.HTML object>"
      ]
     },
     "metadata": {},
     "output_type": "display_data"
    },
    {
     "data": {
      "text/html": [
       "<div class=\"tempscorps\">je commen<b>çais</b><br/>tu commen<b>çais</b><br/>il commen<b>çait</b><br/>nous commen<b>cions</b><br/>vous commen<b>ciez</b><br/>ils commen<b>çaient</b><br/></div>"
      ],
      "text/plain": [
       "<IPython.core.display.HTML object>"
      ]
     },
     "metadata": {},
     "output_type": "display_data"
    },
    {
     "name": "stdout",
     "output_type": "stream",
     "text": [
      "\n",
      "faire\n",
      "do\n"
     ]
    },
    {
     "data": {
      "text/html": [
       "<b>3ème</b> group"
      ],
      "text/plain": [
       "<IPython.core.display.HTML object>"
      ]
     },
     "metadata": {},
     "output_type": "display_data"
    },
    {
     "data": {
      "text/html": [
       "<div class=\"tempscorps\">je f<b>aisais</b><br/>tu f<b>aisais</b><br/>il f<b>aisait</b><br/>nous f<b>aisions</b><br/>vous f<b>aisiez</b><br/>ils f<b>aisaient</b><br/></div>"
      ],
      "text/plain": [
       "<IPython.core.display.HTML object>"
      ]
     },
     "metadata": {},
     "output_type": "display_data"
    },
    {
     "name": "stdout",
     "output_type": "stream",
     "text": [
      "\n",
      "geler\n",
      "freeze\n"
     ]
    },
    {
     "data": {
      "text/html": [
       "<b>1er</b> group"
      ],
      "text/plain": [
       "<IPython.core.display.HTML object>"
      ]
     },
     "metadata": {},
     "output_type": "display_data"
    },
    {
     "data": {
      "text/html": [
       "<div class=\"tempscorps\">je g<b>e</b>l<b>ais</b><br/>tu g<b>e</b>l<b>ais</b><br/>il g<b>e</b>l<b>ait</b><br/>nous g<b>e</b>l<b>ions</b><br/>vous g<b>e</b>l<b>iez</b><br/>ils g<b>e</b>l<b>aient</b><br/></div>"
      ],
      "text/plain": [
       "<IPython.core.display.HTML object>"
      ]
     },
     "metadata": {},
     "output_type": "display_data"
    },
    {
     "name": "stdout",
     "output_type": "stream",
     "text": [
      "\n",
      "avoir\n",
      "have\n"
     ]
    },
    {
     "data": {
      "text/html": [
       "<b>Auxiliaire</b> group"
      ],
      "text/plain": [
       "<IPython.core.display.HTML object>"
      ]
     },
     "metadata": {},
     "output_type": "display_data"
    },
    {
     "data": {
      "text/html": [
       "<div class=\"tempscorps\">j'<b>avais</b><br/>tu <b>avais</b><br/>il <b>avait</b><br/>nous <b>avions</b><br/>vous <b>aviez</b><br/>ils <b>avaient</b><br/></div>"
      ],
      "text/plain": [
       "<IPython.core.display.HTML object>"
      ]
     },
     "metadata": {},
     "output_type": "display_data"
    }
   ],
   "source": [
    "get_conjugation(['partir','etre', 'lire', 'ecouter', 'attendre', 'etre', 'rever', 'se reunir', 'discuter', 'manger', 'lancer', 'etre', 'croire', 'marcher', 'reflechir', 'etre', 'commencer', 'faire', 'geler', 'avoir'],'Imparfait')"
   ]
  },
  {
   "cell_type": "code",
   "execution_count": 137,
   "metadata": {},
   "outputs": [
    {
     "name": "stdout",
     "output_type": "stream",
     "text": [
      "Imparfait forms for:\n",
      "\n",
      "aller\n",
      "go\n"
     ]
    },
    {
     "data": {
      "text/html": [
       "<div class=\"tempscorps\">j'<b>allais</b><br/>tu <b>allais</b><br/>il <b>allait</b><br/>nous <b>allions</b><br/>vous <b>alliez</b><br/>ils <b>allaient</b><br/></div>"
      ],
      "text/plain": [
       "<IPython.core.display.HTML object>"
      ]
     },
     "metadata": {},
     "output_type": "display_data"
    },
    {
     "name": "stdout",
     "output_type": "stream",
     "text": [
      "\n",
      "eteindre\n",
      "turn off\n"
     ]
    },
    {
     "data": {
      "text/html": [
       "<div class=\"tempscorps\">j'étei<b>gnais</b><br/>tu étei<b>gnais</b><br/>il étei<b>gnait</b><br/>nous étei<b>gnions</b><br/>vous étei<b>gniez</b><br/>ils étei<b>gnaient</b><br/></div>"
      ],
      "text/plain": [
       "<IPython.core.display.HTML object>"
      ]
     },
     "metadata": {},
     "output_type": "display_data"
    },
    {
     "name": "stdout",
     "output_type": "stream",
     "text": [
      "\n",
      "ecrire\n",
      "write\n"
     ]
    },
    {
     "data": {
      "text/html": [
       "<div class=\"tempscorps\">j'écri<b>vais</b><br/>tu écri<b>vais</b><br/>il écri<b>vait</b><br/>nous écri<b>vions</b><br/>vous écri<b>viez</b><br/>ils écri<b>vaient</b><br/></div>"
      ],
      "text/plain": [
       "<IPython.core.display.HTML object>"
      ]
     },
     "metadata": {},
     "output_type": "display_data"
    },
    {
     "name": "stdout",
     "output_type": "stream",
     "text": [
      "\n",
      "traduire\n",
      "translate\n"
     ]
    },
    {
     "data": {
      "text/html": [
       "<div class=\"tempscorps\">je tradui<b>sais</b><br/>tu tradui<b>sais</b><br/>il tradui<b>sait</b><br/>nous tradui<b>sions</b><br/>vous tradui<b>siez</b><br/>ils tradui<b>saient</b><br/></div>"
      ],
      "text/plain": [
       "<IPython.core.display.HTML object>"
      ]
     },
     "metadata": {},
     "output_type": "display_data"
    },
    {
     "name": "stdout",
     "output_type": "stream",
     "text": [
      "\n",
      "avoir\n",
      "have\n"
     ]
    },
    {
     "data": {
      "text/html": [
       "<div class=\"tempscorps\">j'<b>avais</b><br/>tu <b>avais</b><br/>il <b>avait</b><br/>nous <b>avions</b><br/>vous <b>aviez</b><br/>ils <b>avaient</b><br/></div>"
      ],
      "text/plain": [
       "<IPython.core.display.HTML object>"
      ]
     },
     "metadata": {},
     "output_type": "display_data"
    },
    {
     "name": "stdout",
     "output_type": "stream",
     "text": [
      "\n",
      "avoir\n",
      "have\n"
     ]
    },
    {
     "data": {
      "text/html": [
       "<div class=\"tempscorps\">j'<b>avais</b><br/>tu <b>avais</b><br/>il <b>avait</b><br/>nous <b>avions</b><br/>vous <b>aviez</b><br/>ils <b>avaient</b><br/></div>"
      ],
      "text/plain": [
       "<IPython.core.display.HTML object>"
      ]
     },
     "metadata": {},
     "output_type": "display_data"
    },
    {
     "name": "stdout",
     "output_type": "stream",
     "text": [
      "\n",
      "obeir\n",
      "obey\n"
     ]
    },
    {
     "data": {
      "text/html": [
       "<div class=\"tempscorps\">j'obé<b>issais</b><br/>tu obé<b>issais</b><br/>il obé<b>issait</b><br/>nous obé<b>issions</b><br/>vous obé<b>issiez</b><br/>ils obé<b>issaient</b><br/></div>"
      ],
      "text/plain": [
       "<IPython.core.display.HTML object>"
      ]
     },
     "metadata": {},
     "output_type": "display_data"
    },
    {
     "name": "stdout",
     "output_type": "stream",
     "text": [
      "\n",
      "laver\n",
      "wash\n"
     ]
    },
    {
     "data": {
      "text/html": [
       "<div class=\"tempscorps\">je lav<b>ais</b><br/>tu lav<b>ais</b><br/>il lav<b>ait</b><br/>nous lav<b>ions</b><br/>vous lav<b>iez</b><br/>ils lav<b>aient</b><br/></div>"
      ],
      "text/plain": [
       "<IPython.core.display.HTML object>"
      ]
     },
     "metadata": {},
     "output_type": "display_data"
    },
    {
     "name": "stdout",
     "output_type": "stream",
     "text": [
      "\n",
      "ranger\n",
      "ranger\n"
     ]
    },
    {
     "data": {
      "text/html": [
       "<div class=\"tempscorps\">je rang<b>eais</b><br/>tu rang<b>eais</b><br/>il rang<b>eait</b><br/>nous rang<b>ions</b><br/>vous rang<b>iez</b><br/>ils rang<b>eaient</b><br/></div>"
      ],
      "text/plain": [
       "<IPython.core.display.HTML object>"
      ]
     },
     "metadata": {},
     "output_type": "display_data"
    },
    {
     "name": "stdout",
     "output_type": "stream",
     "text": [
      "\n",
      "conduire\n",
      "lead\n"
     ]
    },
    {
     "data": {
      "text/html": [
       "<div class=\"tempscorps\">je condui<b>sais</b><br/>tu condui<b>sais</b><br/>il condui<b>sait</b><br/>nous condui<b>sions</b><br/>vous condui<b>siez</b><br/>ils condui<b>saient</b><br/></div>"
      ],
      "text/plain": [
       "<IPython.core.display.HTML object>"
      ]
     },
     "metadata": {},
     "output_type": "display_data"
    },
    {
     "name": "stdout",
     "output_type": "stream",
     "text": [
      "\n",
      "travailler\n",
      "work\n"
     ]
    },
    {
     "data": {
      "text/html": [
       "<div class=\"tempscorps\">je travaill<b>ais</b><br/>tu travaill<b>ais</b><br/>il travaill<b>ait</b><br/>nous travaill<b>ions</b><br/>vous travaill<b>iez</b><br/>ils travaill<b>aient</b><br/></div>"
      ],
      "text/plain": [
       "<IPython.core.display.HTML object>"
      ]
     },
     "metadata": {},
     "output_type": "display_data"
    },
    {
     "name": "stdout",
     "output_type": "stream",
     "text": [
      "\n",
      "applaudir\n",
      "cheer\n"
     ]
    },
    {
     "data": {
      "text/html": [
       "<div class=\"tempscorps\">j'applaud<b>issais</b><br/>tu applaud<b>issais</b><br/>il applaud<b>issait</b><br/>nous applaud<b>issions</b><br/>vous applaud<b>issiez</b><br/>ils applaud<b>issaient</b><br/></div>"
      ],
      "text/plain": [
       "<IPython.core.display.HTML object>"
      ]
     },
     "metadata": {},
     "output_type": "display_data"
    },
    {
     "name": "stdout",
     "output_type": "stream",
     "text": [
      "\n",
      "voir\n",
      "see\n"
     ]
    },
    {
     "data": {
      "text/html": [
       "<div class=\"tempscorps\">je v<b>oyais</b><br/>tu v<b>oyais</b><br/>il v<b>oyait</b><br/>nous v<b>oyions</b><br/>vous v<b>oyiez</b><br/>ils v<b>oyaient</b><br/></div>"
      ],
      "text/plain": [
       "<IPython.core.display.HTML object>"
      ]
     },
     "metadata": {},
     "output_type": "display_data"
    },
    {
     "name": "stdout",
     "output_type": "stream",
     "text": [
      "\n",
      "rougir\n",
      "blush\n"
     ]
    },
    {
     "data": {
      "text/html": [
       "<div class=\"tempscorps\">je roug<b>issais</b><br/>tu roug<b>issais</b><br/>il roug<b>issait</b><br/>nous roug<b>issions</b><br/>vous roug<b>issiez</b><br/>ils roug<b>issaient</b><br/></div>"
      ],
      "text/plain": [
       "<IPython.core.display.HTML object>"
      ]
     },
     "metadata": {},
     "output_type": "display_data"
    }
   ],
   "source": [
    "get_conjugation(['aller', 'eteindre', 'ecrire', 'traduire', 'avoir','avoir','obeir', 'laver','ranger', 'conduire', 'travailler', 'applaudir', 'voir','rougir'], 'Imparfait')"
   ]
  },
  {
   "cell_type": "code",
   "execution_count": 134,
   "metadata": {},
   "outputs": [
    {
     "data": {
      "text/plain": [
       "'This was a morning of October, the trees started losing their leaves. It was cold, it was freezing, it was windy.'"
      ]
     },
     "execution_count": 134,
     "metadata": {},
     "output_type": "execute_result"
    }
   ],
   "source": [
    "translate('Ce etait un matin du octobre, les arbres commencaient a perdre leurs feuilles. Il faisait froid, il gelait, il y avait du vent.',final_lang = 'en')"
   ]
  },
  {
   "cell_type": "code",
   "execution_count": 145,
   "metadata": {},
   "outputs": [
    {
     "data": {
      "text/plain": [
       "'We were afraid of our father and obey him. during this time, we rangions the business. at this time our neighbor has called to the aid'"
      ]
     },
     "execution_count": 145,
     "metadata": {},
     "output_type": "execute_result"
    }
   ],
   "source": [
    "translate('Nous avions peur de notre pere et nous lui obéissions. pendant ce temps, nous rangions les affaires. a ce moment notre voisin a appele au secours', 'en')"
   ]
  },
  {
   "cell_type": "code",
   "execution_count": 181,
   "metadata": {},
   "outputs": [
    {
     "name": "stdout",
     "output_type": "stream",
     "text": [
      "Passé composé forms for:\n",
      "\n",
      "briller\n",
      "shine\n"
     ]
    },
    {
     "data": {
      "text/html": [
       "<div class=\"tempscorps\">j'ai brill<b>é</b><br/>tu as brill<b>é</b><br/>il a brill<b>é</b><br/>nous avons brill<b>é</b><br/>vous avez brill<b>é</b><br/>ils ont brill<b>é</b><br/></div>"
      ],
      "text/plain": [
       "<IPython.core.display.HTML object>"
      ]
     },
     "metadata": {},
     "output_type": "display_data"
    }
   ],
   "source": [
    "get_conjugation(['briller'],'Passé composé')\n",
    "# get_conjugation(['eplucher'],'Passé composé')"
   ]
  },
  {
   "cell_type": "code",
   "execution_count": 6,
   "metadata": {},
   "outputs": [
    {
     "name": "stdout",
     "output_type": "stream",
     "text": [
      "Présent forms for:\n",
      "\n",
      "sourire\n",
      "smile\n"
     ]
    },
    {
     "data": {
      "text/html": [
       "<div class=\"tempscorps\">je sour<b>is</b><br/>tu sour<b>is</b><br/>il sour<b>it</b><br/>nous sour<b>ions</b><br/>vous sour<b>iez</b><br/>ils sour<b>ient</b><br/></div>"
      ],
      "text/plain": [
       "<IPython.core.display.HTML object>"
      ]
     },
     "metadata": {},
     "output_type": "display_data"
    },
    {
     "name": "stdout",
     "output_type": "stream",
     "text": [
      "Passé composé forms for:\n",
      "\n",
      "sourire\n",
      "smile\n"
     ]
    },
    {
     "data": {
      "text/html": [
       "<div class=\"tempscorps\">j'ai sour<b>i</b><br/>tu as sour<b>i</b><br/>il a sour<b>i</b><br/>nous avons sour<b>i</b><br/>vous avez sour<b>i</b><br/>ils ont sour<b>i</b><br/></div>"
      ],
      "text/plain": [
       "<IPython.core.display.HTML object>"
      ]
     },
     "metadata": {},
     "output_type": "display_data"
    }
   ],
   "source": [
    "get_conjugation(['sourire'],'Présent')\n",
    "get_conjugation(['sourire'],'Passé composé')\n",
    "\n",
    "# get_conjugation(['etre'],'Imparfait')"
   ]
  },
  {
   "cell_type": "code",
   "execution_count": 184,
   "metadata": {},
   "outputs": [
    {
     "data": {
      "text/plain": [
       "'It was night, the stars shining in the sky'"
      ]
     },
     "execution_count": 184,
     "metadata": {},
     "output_type": "execute_result"
    }
   ],
   "source": [
    "translate('Tous les jours, Victor jouais aux echecs', 'en')\n",
    "translate('Il faisait nuit, les etoiles brillaient dans le ciel', 'en')"
   ]
  },
  {
   "cell_type": "code",
   "execution_count": 6,
   "metadata": {
    "collapsed": true
   },
   "outputs": [],
   "source": [
    "etre_verbs = ['Devenir', 'Revenir', 'Monter', 'Rester', 'Sortir', 'Venir', 'Aller',\n",
    "       'Naitre', 'Descendre', 'Entrer', 'Retourner', 'Tomber', 'Rentrer', 'Arriver', 'Mourir', 'Partir']"
   ]
  },
  {
   "cell_type": "code",
   "execution_count": 20,
   "metadata": {},
   "outputs": [
    {
     "name": "stdout",
     "output_type": "stream",
     "text": [
      "Passé composé forms for:\n",
      "\n",
      "Devenir\n",
      "Become\n"
     ]
    },
    {
     "data": {
      "text/html": [
       "<b>3ème</b>"
      ],
      "text/plain": [
       "<IPython.core.display.HTML object>"
      ]
     },
     "metadata": {},
     "output_type": "display_data"
    },
    {
     "data": {
      "text/html": [
       "<div class=\"tempscorps\">je suis dev<b>enu</b><br/>tu es dev<b>enu</b><br/>il est dev<b>enu</b><br/>nous sommes dev<b>enus</b><br/>vous êtes dev<b>enus</b><br/>ils sont dev<b>enus</b><br/></div>"
      ],
      "text/plain": [
       "<IPython.core.display.HTML object>"
      ]
     },
     "metadata": {},
     "output_type": "display_data"
    },
    {
     "name": "stdout",
     "output_type": "stream",
     "text": [
      "\n",
      "Revenir\n",
      "Return\n"
     ]
    },
    {
     "data": {
      "text/html": [
       "<b>3ème</b>"
      ],
      "text/plain": [
       "<IPython.core.display.HTML object>"
      ]
     },
     "metadata": {},
     "output_type": "display_data"
    },
    {
     "data": {
      "text/html": [
       "<div class=\"tempscorps\">je suis rev<b>enu</b><br/>tu es rev<b>enu</b><br/>il est rev<b>enu</b><br/>nous sommes rev<b>enus</b><br/>vous êtes rev<b>enus</b><br/>ils sont rev<b>enus</b><br/></div>"
      ],
      "text/plain": [
       "<IPython.core.display.HTML object>"
      ]
     },
     "metadata": {},
     "output_type": "display_data"
    },
    {
     "name": "stdout",
     "output_type": "stream",
     "text": [
      "\n",
      "Monter\n",
      "Mount\n"
     ]
    },
    {
     "data": {
      "text/html": [
       "<b>1er</b>"
      ],
      "text/plain": [
       "<IPython.core.display.HTML object>"
      ]
     },
     "metadata": {},
     "output_type": "display_data"
    },
    {
     "data": {
      "text/html": [
       "<div class=\"tempscorps\">j'ai mont<b>é</b><br/>tu as mont<b>é</b><br/>il a mont<b>é</b><br/>nous avons mont<b>é</b><br/>vous avez mont<b>é</b><br/>ils ont mont<b>é</b><br/></div>"
      ],
      "text/plain": [
       "<IPython.core.display.HTML object>"
      ]
     },
     "metadata": {},
     "output_type": "display_data"
    },
    {
     "name": "stdout",
     "output_type": "stream",
     "text": [
      "\n",
      "Rester\n",
      "Stay\n"
     ]
    },
    {
     "data": {
      "text/html": [
       "<b>1er</b>"
      ],
      "text/plain": [
       "<IPython.core.display.HTML object>"
      ]
     },
     "metadata": {},
     "output_type": "display_data"
    },
    {
     "data": {
      "text/html": [
       "<div class=\"tempscorps\">je suis rest<b>é</b><br/>tu es rest<b>é</b><br/>il est rest<b>é</b><br/>nous sommes rest<b>és</b><br/>vous êtes rest<b>és</b><br/>ils sont rest<b>és</b><br/></div>"
      ],
      "text/plain": [
       "<IPython.core.display.HTML object>"
      ]
     },
     "metadata": {},
     "output_type": "display_data"
    },
    {
     "name": "stdout",
     "output_type": "stream",
     "text": [
      "\n",
      "Sortir\n",
      "Out\n"
     ]
    },
    {
     "data": {
      "text/html": [
       "<b>3ème</b>"
      ],
      "text/plain": [
       "<IPython.core.display.HTML object>"
      ]
     },
     "metadata": {},
     "output_type": "display_data"
    },
    {
     "data": {
      "text/html": [
       "<div class=\"tempscorps\">j'ai sor<b>ti</b><br/>tu as sor<b>ti</b><br/>il a sor<b>ti</b><br/>nous avons sor<b>ti</b><br/>vous avez sor<b>ti</b><br/>ils ont sor<b>ti</b><br/></div>"
      ],
      "text/plain": [
       "<IPython.core.display.HTML object>"
      ]
     },
     "metadata": {},
     "output_type": "display_data"
    },
    {
     "name": "stdout",
     "output_type": "stream",
     "text": [
      "\n",
      "Venir\n",
      "Come\n"
     ]
    },
    {
     "data": {
      "text/html": [
       "<b>3ème</b>"
      ],
      "text/plain": [
       "<IPython.core.display.HTML object>"
      ]
     },
     "metadata": {},
     "output_type": "display_data"
    },
    {
     "data": {
      "text/html": [
       "<div class=\"tempscorps\">je suis v<b>enu</b><br/>tu es v<b>enu</b><br/>il est v<b>enu</b><br/>nous sommes v<b>enus</b><br/>vous êtes v<b>enus</b><br/>ils sont v<b>enus</b><br/></div>"
      ],
      "text/plain": [
       "<IPython.core.display.HTML object>"
      ]
     },
     "metadata": {},
     "output_type": "display_data"
    },
    {
     "name": "stdout",
     "output_type": "stream",
     "text": [
      "\n",
      "Aller\n",
      "Go\n"
     ]
    },
    {
     "data": {
      "text/html": [
       "<b>3ème</b>"
      ],
      "text/plain": [
       "<IPython.core.display.HTML object>"
      ]
     },
     "metadata": {},
     "output_type": "display_data"
    },
    {
     "data": {
      "text/html": [
       "<div class=\"tempscorps\">je suis <b>allé</b><br/>tu es <b>allé</b><br/>il est <b>allé</b><br/>nous sommes <b>allés</b><br/>vous êtes <b>allés</b><br/>ils sont <b>allés</b><br/></div>"
      ],
      "text/plain": [
       "<IPython.core.display.HTML object>"
      ]
     },
     "metadata": {},
     "output_type": "display_data"
    },
    {
     "name": "stdout",
     "output_type": "stream",
     "text": [
      "\n",
      "Naitre\n",
      "Born\n"
     ]
    },
    {
     "data": {
      "text/html": [
       "<b>3ème</b>"
      ],
      "text/plain": [
       "<IPython.core.display.HTML object>"
      ]
     },
     "metadata": {},
     "output_type": "display_data"
    },
    {
     "data": {
      "text/html": [
       "<div class=\"tempscorps\">je suis n<b>é</b><br/>tu es n<b>é</b><br/>il est n<b>é</b><br/>nous sommes n<b>és</b><br/>vous êtes n<b>és</b><br/>ils sont n<b>és</b><br/></div>"
      ],
      "text/plain": [
       "<IPython.core.display.HTML object>"
      ]
     },
     "metadata": {},
     "output_type": "display_data"
    },
    {
     "name": "stdout",
     "output_type": "stream",
     "text": [
      "\n",
      "Descendre\n",
      "Down\n"
     ]
    },
    {
     "data": {
      "text/html": [
       "<b>3ème</b>"
      ],
      "text/plain": [
       "<IPython.core.display.HTML object>"
      ]
     },
     "metadata": {},
     "output_type": "display_data"
    },
    {
     "data": {
      "text/html": [
       "<div class=\"tempscorps\">j'ai descend<b>u</b><br/>tu as descend<b>u</b><br/>il a descend<b>u</b><br/>nous avons descend<b>u</b><br/>vous avez descend<b>u</b><br/>ils ont descend<b>u</b><br/></div>"
      ],
      "text/plain": [
       "<IPython.core.display.HTML object>"
      ]
     },
     "metadata": {},
     "output_type": "display_data"
    },
    {
     "name": "stdout",
     "output_type": "stream",
     "text": [
      "\n",
      "Entrer\n",
      "Enter\n"
     ]
    },
    {
     "data": {
      "text/html": [
       "<b>1er</b>"
      ],
      "text/plain": [
       "<IPython.core.display.HTML object>"
      ]
     },
     "metadata": {},
     "output_type": "display_data"
    },
    {
     "data": {
      "text/html": [
       "<div class=\"tempscorps\">je suis entr<b>é</b><br/>tu es entr<b>é</b><br/>il est entr<b>é</b><br/>nous sommes entr<b>és</b><br/>vous êtes entr<b>és</b><br/>ils sont entr<b>és</b><br/></div>"
      ],
      "text/plain": [
       "<IPython.core.display.HTML object>"
      ]
     },
     "metadata": {},
     "output_type": "display_data"
    },
    {
     "name": "stdout",
     "output_type": "stream",
     "text": [
      "\n",
      "Retourner\n",
      "Return\n"
     ]
    },
    {
     "data": {
      "text/html": [
       "<b>1er</b>"
      ],
      "text/plain": [
       "<IPython.core.display.HTML object>"
      ]
     },
     "metadata": {},
     "output_type": "display_data"
    },
    {
     "data": {
      "text/html": [
       "<div class=\"tempscorps\">j'ai retourn<b>é</b><br/>tu as retourn<b>é</b><br/>il a retourn<b>é</b><br/>nous avons retourn<b>é</b><br/>vous avez retourn<b>é</b><br/>ils ont retourn<b>é</b><br/></div>"
      ],
      "text/plain": [
       "<IPython.core.display.HTML object>"
      ]
     },
     "metadata": {},
     "output_type": "display_data"
    },
    {
     "name": "stdout",
     "output_type": "stream",
     "text": [
      "\n",
      "Tomber\n",
      "Fall\n"
     ]
    },
    {
     "data": {
      "text/html": [
       "<b>1er</b>"
      ],
      "text/plain": [
       "<IPython.core.display.HTML object>"
      ]
     },
     "metadata": {},
     "output_type": "display_data"
    },
    {
     "data": {
      "text/html": [
       "<div class=\"tempscorps\">je suis tomb<b>é</b><br/>tu es tomb<b>é</b><br/>il est tomb<b>é</b><br/>nous sommes tomb<b>és</b><br/>vous êtes tomb<b>és</b><br/>ils sont tomb<b>és</b><br/></div>"
      ],
      "text/plain": [
       "<IPython.core.display.HTML object>"
      ]
     },
     "metadata": {},
     "output_type": "display_data"
    },
    {
     "name": "stdout",
     "output_type": "stream",
     "text": [
      "\n",
      "Rentrer\n",
      "Return\n"
     ]
    },
    {
     "data": {
      "text/html": [
       "<b>1er</b>"
      ],
      "text/plain": [
       "<IPython.core.display.HTML object>"
      ]
     },
     "metadata": {},
     "output_type": "display_data"
    },
    {
     "data": {
      "text/html": [
       "<div class=\"tempscorps\">je suis rentr<b>é</b><br/>tu es rentr<b>é</b><br/>il est rentr<b>é</b><br/>nous sommes rentr<b>és</b><br/>vous êtes rentr<b>és</b><br/>ils sont rentr<b>és</b><br/></div>"
      ],
      "text/plain": [
       "<IPython.core.display.HTML object>"
      ]
     },
     "metadata": {},
     "output_type": "display_data"
    },
    {
     "name": "stdout",
     "output_type": "stream",
     "text": [
      "\n",
      "Arriver\n",
      "Getting\n"
     ]
    },
    {
     "data": {
      "text/html": [
       "<b>1er</b>"
      ],
      "text/plain": [
       "<IPython.core.display.HTML object>"
      ]
     },
     "metadata": {},
     "output_type": "display_data"
    },
    {
     "data": {
      "text/html": [
       "<div class=\"tempscorps\">je suis arriv<b>é</b><br/>tu es arriv<b>é</b><br/>il est arriv<b>é</b><br/>nous sommes arriv<b>és</b><br/>vous êtes arriv<b>és</b><br/>ils sont arriv<b>és</b><br/></div>"
      ],
      "text/plain": [
       "<IPython.core.display.HTML object>"
      ]
     },
     "metadata": {},
     "output_type": "display_data"
    },
    {
     "name": "stdout",
     "output_type": "stream",
     "text": [
      "\n",
      "Mourir\n",
      "Die\n"
     ]
    },
    {
     "data": {
      "text/html": [
       "<b>3ème</b>"
      ],
      "text/plain": [
       "<IPython.core.display.HTML object>"
      ]
     },
     "metadata": {},
     "output_type": "display_data"
    },
    {
     "data": {
      "text/html": [
       "<div class=\"tempscorps\">je suis m<b>ort</b><br/>tu es m<b>ort</b><br/>il est m<b>ort</b><br/>nous sommes m<b>orts</b><br/>vous êtes m<b>orts</b><br/>ils sont m<b>orts</b><br/></div>"
      ],
      "text/plain": [
       "<IPython.core.display.HTML object>"
      ]
     },
     "metadata": {},
     "output_type": "display_data"
    },
    {
     "name": "stdout",
     "output_type": "stream",
     "text": [
      "\n",
      "Partir\n",
      "From\n"
     ]
    },
    {
     "data": {
      "text/html": [
       "<b>3ème</b>"
      ],
      "text/plain": [
       "<IPython.core.display.HTML object>"
      ]
     },
     "metadata": {},
     "output_type": "display_data"
    },
    {
     "data": {
      "text/html": [
       "<div class=\"tempscorps\">je suis par<b>ti</b><br/>tu es par<b>ti</b><br/>il est par<b>ti</b><br/>nous sommes par<b>tis</b><br/>vous êtes par<b>tis</b><br/>ils sont par<b>tis</b><br/></div>"
      ],
      "text/plain": [
       "<IPython.core.display.HTML object>"
      ]
     },
     "metadata": {},
     "output_type": "display_data"
    }
   ],
   "source": [
    "get_conjugation(etre_verbs, 'Passé composé')"
   ]
  },
  {
   "cell_type": "markdown",
   "metadata": {},
   "source": [
    "* 1я группа: monter, rester, entrer, retourner, tomber, rentrer, arriver, aller(3я, но в passe compose также): -er -> é\n",
    "* 3я группа:\n",
    "    * devenir, revenir, venir: -enir -> enu\n",
    "    * sortir, partir -> sorti, parti\n",
    "    * naitre (né), mourir(mort), descendre (descendu) - не похожи"
   ]
  },
  {
   "cell_type": "code",
   "execution_count": 21,
   "metadata": {},
   "outputs": [
    {
     "data": {
      "text/plain": [
       "16"
      ]
     },
     "execution_count": 21,
     "metadata": {},
     "output_type": "execute_result"
    }
   ],
   "source": [
    "len(etre_verbs)"
   ]
  },
  {
   "cell_type": "code",
   "execution_count": 5,
   "metadata": {
    "collapsed": true
   },
   "outputs": [],
   "source": [
    "def get_passe_and_imparfait(verbs):\n",
    "    for verb in verbs:\n",
    "        print()\n",
    "        print(verb)\n",
    "        print(translate(verb,final_lang='fr-en'))\n",
    "        if (verb.count(' ') > 0):\n",
    "            verb = verb.replace(' ', '_')\n",
    "        template = 'http://la-conjugaison.nouvelobs.com/du/verbe/{}.php'\n",
    "        url = template.format(verb)\n",
    "        req = get(url)\n",
    "\n",
    "        assert req.status_code == 200, 'request failed'\n",
    "        soup = BeautifulSoup(req.text, \"lxml\")\n",
    "        display(HTML('nous: ' + str(soup.select('.tempstab:nth-child(11) b:nth-child(7)')[0])))\n",
    "        display(HTML('Compose: ' + str(soup.select('.tempstab:nth-child(12) b:nth-child(1)')[0])))"
   ]
  },
  {
   "cell_type": "code",
   "execution_count": 6,
   "metadata": {},
   "outputs": [
    {
     "name": "stdout",
     "output_type": "stream",
     "text": [
      "\n",
      "etre\n",
      "be\n"
     ]
    },
    {
     "ename": "NotImplementedError",
     "evalue": "Only the following pseudo-classes are implemented: nth-of-type.",
     "output_type": "error",
     "traceback": [
      "\u001b[1;31m---------------------------------------------------------------------------\u001b[0m",
      "\u001b[1;31mNotImplementedError\u001b[0m                       Traceback (most recent call last)",
      "\u001b[1;32m<ipython-input-6-9e2361e5eb94>\u001b[0m in \u001b[0;36m<module>\u001b[1;34m()\u001b[0m\n\u001b[1;32m----> 1\u001b[1;33m \u001b[0mget_passe_and_imparfait\u001b[0m\u001b[1;33m(\u001b[0m\u001b[1;33m[\u001b[0m\u001b[1;34m'etre'\u001b[0m\u001b[1;33m]\u001b[0m\u001b[1;33m)\u001b[0m\u001b[1;33m\u001b[0m\u001b[0m\n\u001b[0m",
      "\u001b[1;32m<ipython-input-5-5648e94f5e1f>\u001b[0m in \u001b[0;36mget_passe_and_imparfait\u001b[1;34m(verbs)\u001b[0m\n\u001b[0;32m     12\u001b[0m         \u001b[1;32massert\u001b[0m \u001b[0mreq\u001b[0m\u001b[1;33m.\u001b[0m\u001b[0mstatus_code\u001b[0m \u001b[1;33m==\u001b[0m \u001b[1;36m200\u001b[0m\u001b[1;33m,\u001b[0m \u001b[1;34m'request failed'\u001b[0m\u001b[1;33m\u001b[0m\u001b[0m\n\u001b[0;32m     13\u001b[0m         \u001b[0msoup\u001b[0m \u001b[1;33m=\u001b[0m \u001b[0mBeautifulSoup\u001b[0m\u001b[1;33m(\u001b[0m\u001b[0mreq\u001b[0m\u001b[1;33m.\u001b[0m\u001b[0mtext\u001b[0m\u001b[1;33m,\u001b[0m \u001b[1;34m\"lxml\"\u001b[0m\u001b[1;33m)\u001b[0m\u001b[1;33m\u001b[0m\u001b[0m\n\u001b[1;32m---> 14\u001b[1;33m         \u001b[0mdisplay\u001b[0m\u001b[1;33m(\u001b[0m\u001b[0mHTML\u001b[0m\u001b[1;33m(\u001b[0m\u001b[1;34m'nous: '\u001b[0m \u001b[1;33m+\u001b[0m \u001b[0mstr\u001b[0m\u001b[1;33m(\u001b[0m\u001b[0msoup\u001b[0m\u001b[1;33m.\u001b[0m\u001b[0mselect\u001b[0m\u001b[1;33m(\u001b[0m\u001b[1;34m'.tempstab:nth-child(11) b:nth-child(7)'\u001b[0m\u001b[1;33m)\u001b[0m\u001b[1;33m[\u001b[0m\u001b[1;36m0\u001b[0m\u001b[1;33m]\u001b[0m\u001b[1;33m)\u001b[0m\u001b[1;33m)\u001b[0m\u001b[1;33m)\u001b[0m\u001b[1;33m\u001b[0m\u001b[0m\n\u001b[0m\u001b[0;32m     15\u001b[0m         \u001b[0mdisplay\u001b[0m\u001b[1;33m(\u001b[0m\u001b[0mHTML\u001b[0m\u001b[1;33m(\u001b[0m\u001b[1;34m'Compose: '\u001b[0m \u001b[1;33m+\u001b[0m \u001b[0mstr\u001b[0m\u001b[1;33m(\u001b[0m\u001b[0msoup\u001b[0m\u001b[1;33m.\u001b[0m\u001b[0mselect\u001b[0m\u001b[1;33m(\u001b[0m\u001b[1;34m'.tempstab:nth-child(12) b:nth-child(1)'\u001b[0m\u001b[1;33m)\u001b[0m\u001b[1;33m[\u001b[0m\u001b[1;36m0\u001b[0m\u001b[1;33m]\u001b[0m\u001b[1;33m)\u001b[0m\u001b[1;33m)\u001b[0m\u001b[1;33m)\u001b[0m\u001b[1;33m\u001b[0m\u001b[0m\n",
      "\u001b[1;32mC:\\Anaconda3\\lib\\site-packages\\bs4\\element.py\u001b[0m in \u001b[0;36mselect\u001b[1;34m(self, selector, _candidate_generator, limit)\u001b[0m\n\u001b[0;32m   1398\u001b[0m                 \u001b[1;32melse\u001b[0m\u001b[1;33m:\u001b[0m\u001b[1;33m\u001b[0m\u001b[0m\n\u001b[0;32m   1399\u001b[0m                     raise NotImplementedError(\n\u001b[1;32m-> 1400\u001b[1;33m                         'Only the following pseudo-classes are implemented: nth-of-type.')\n\u001b[0m\u001b[0;32m   1401\u001b[0m \u001b[1;33m\u001b[0m\u001b[0m\n\u001b[0;32m   1402\u001b[0m             \u001b[1;32melif\u001b[0m \u001b[0mtoken\u001b[0m \u001b[1;33m==\u001b[0m \u001b[1;34m'*'\u001b[0m\u001b[1;33m:\u001b[0m\u001b[1;33m\u001b[0m\u001b[0m\n",
      "\u001b[1;31mNotImplementedError\u001b[0m: Only the following pseudo-classes are implemented: nth-of-type."
     ]
    }
   ],
   "source": [
    "get_passe_and_imparfait(['etre'])"
   ]
  },
  {
   "cell_type": "code",
   "execution_count": 13,
   "metadata": {},
   "outputs": [
    {
     "data": {
      "text/html": [
       "[]"
      ],
      "text/plain": [
       "<IPython.core.display.HTML object>"
      ]
     },
     "metadata": {},
     "output_type": "display_data"
    }
   ],
   "source": [
    "url = 'http://la-conjugaison.nouvelobs.com/du/verbe/etre.php'\n",
    "req = get(url)\n",
    "\n",
    "assert req.status_code == 200, 'request failed'\n",
    "soup = BeautifulSoup(req.text, \"lxml\")\n",
    "display(HTML(str(soup.select('.tempstab:nth-child(12) .tempscorps'))))\n",
    "# display(HTML('Compose: ' + str(soup.select('.tempstab:nth-child(12) b:nth-child(1)')[0])))"
   ]
  },
  {
   "cell_type": "code",
   "execution_count": null,
   "metadata": {
    "collapsed": true
   },
   "outputs": [],
   "source": []
  }
 ],
 "metadata": {
  "anaconda-cloud": {},
  "kernelspec": {
   "display_name": "Python 3",
   "language": "python",
   "name": "python3"
  },
  "language_info": {
   "codemirror_mode": {
    "name": "ipython",
    "version": 3
   },
   "file_extension": ".py",
   "mimetype": "text/x-python",
   "name": "python",
   "nbconvert_exporter": "python",
   "pygments_lexer": "ipython3",
   "version": "3.6.4"
  }
 },
 "nbformat": 4,
 "nbformat_minor": 2
}
